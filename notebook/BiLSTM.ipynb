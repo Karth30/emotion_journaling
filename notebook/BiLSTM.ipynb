{
 "cells": [
  {
   "cell_type": "code",
   "execution_count": 1,
   "metadata": {},
   "outputs": [],
   "source": [
    "import numpy as np\n",
    "import pandas as pd\n",
    "import tensorflow as tf\n",
    "from tensorflow.keras.preprocessing.text import Tokenizer\n",
    "from tensorflow.keras.preprocessing.sequence import pad_sequences\n",
    "from tensorflow.keras.models import Sequential\n",
    "from tensorflow.keras.layers import Embedding, LSTM, Dense, Dropout\n",
    "from sklearn.preprocessing import LabelEncoder\n",
    "from sklearn.model_selection import train_test_split\n"
   ]
  },
  {
   "cell_type": "code",
   "execution_count": 2,
   "metadata": {},
   "outputs": [],
   "source": [
    "## Load the datatset\n",
    "df=pd.read_csv('dataset\\combined_emotion.csv')\n",
    "\n",
    "# Extract text and labels\n",
    "texts = df[\"sentence\"].values\n",
    "labels = df[\"emotion\"].values\n",
    "\n",
    "# Encode labels into integers\n",
    "label_encoder = LabelEncoder()\n",
    "labels = label_encoder.fit_transform(labels)  # Convert labels to numerical values\n",
    "\n",
    "# Split dataset into training and testing sets\n",
    "X_train, X_test, y_train, y_test = train_test_split(texts, labels, test_size=0.2, random_state=42)\n",
    "# Tokenization\n",
    "max_words = 10000  # Vocabulary size\n",
    "max_len = 100      # Maximum sequence length\n",
    "\n",
    "tokenizer = Tokenizer(num_words=max_words, oov_token=\"<OOV>\")\n",
    "tokenizer.fit_on_texts(X_train)\n",
    "\n",
    "# Convert text to sequences\n",
    "X_train_seq = tokenizer.texts_to_sequences(X_train)\n",
    "X_test_seq = tokenizer.texts_to_sequences(X_test)\n",
    "\n",
    "# Padding sequences to ensure uniform input size\n",
    "X_train_pad = pad_sequences(X_train_seq, maxlen=max_len, padding='post', truncating='post')\n",
    "X_test_pad = pad_sequences(X_test_seq, maxlen=max_len, padding='post', truncating='post')"
   ]
  },
  {
   "cell_type": "code",
   "execution_count": 3,
   "metadata": {},
   "outputs": [
    {
     "name": "stderr",
     "output_type": "stream",
     "text": [
      "d:\\Projects\\Emotion Detection\\emotion_detect_env\\lib\\site-packages\\keras\\src\\layers\\core\\embedding.py:90: UserWarning: Argument `input_length` is deprecated. Just remove it.\n",
      "  warnings.warn(\n"
     ]
    }
   ],
   "source": [
    "from gensim.models import Word2Vec\n",
    "\n",
    "# Load Gensim Word2Vec model\n",
    "w2v_model = Word2Vec.load(\"D:/Projects/Emotion Detection/model/word2vec_model.bin\")\n",
    "\n",
    "# Create an embedding matrix for Keras Embedding layer\n",
    "embedding_dim = w2v_model.vector_size\n",
    "embedding_matrix = np.zeros((max_words, embedding_dim))\n",
    "\n",
    "word_index = tokenizer.word_index\n",
    "for word, i in word_index.items():\n",
    "    if i < max_words:  # Limit to max_words\n",
    "        if word in w2v_model.wv:\n",
    "            embedding_matrix[i] = w2v_model.wv[word]\n",
    "\n",
    "# Now use this matrix in the embedding layer\n",
    "embedding_layer = Embedding(input_dim=max_words, \n",
    "                            output_dim=embedding_dim, \n",
    "                            weights=[embedding_matrix], \n",
    "                            input_length=max_len, \n",
    "                            trainable=False)  # Set trainable=False to keep Word2Vec embeddings fixed\n"
   ]
  },
  {
   "cell_type": "code",
   "execution_count": 4,
   "metadata": {},
   "outputs": [],
   "source": [
    "from tensorflow.keras.layers import LSTM, Bidirectional, Dense, Dropout, Embedding, LayerNormalization, LeakyReLU\n",
    "from tensorflow.keras.models import Sequential\n",
    "\n",
    "model = Sequential([\n",
    "    embedding_layer,  # Using the pre-trained Word2Vec embeddings\n",
    "    Bidirectional(LSTM(256, return_sequences=True)),\n",
    "    LayerNormalization(),\n",
    "    Dropout(0.3),\n",
    "    Bidirectional(LSTM(128)),\n",
    "    Dense(64),\n",
    "    LeakyReLU(),\n",
    "    Dropout(0.5),\n",
    "    Dense(len(np.unique(labels)), activation='softmax')  # Output layer\n",
    "])\n",
    "\n",
    "model.compile(loss='sparse_categorical_crossentropy', optimizer='adam', metrics=['accuracy'])\n"
   ]
  },
  {
   "cell_type": "code",
   "execution_count": null,
   "metadata": {},
   "outputs": [],
   "source": [
    "# TRAIN MODEL\n",
    "early_stopping = tf.keras.callbacks.EarlyStopping(monitor='val_loss', patience=3, restore_best_weights=True)\n",
    "\n",
    "history = model.fit(\n",
    "    X_train_pad, y_train,\n",
    "    epochs=10,\n",
    "    batch_size=32,\n",
    "    validation_data=(X_test_pad, y_test),\n",
    "    callbacks=[early_stopping]\n",
    ")\n",
    "\n",
    "## Training done on Google Colab."
   ]
  },
  {
   "cell_type": "code",
   "execution_count": 5,
   "metadata": {},
   "outputs": [
    {
     "name": "stderr",
     "output_type": "stream",
     "text": [
      "d:\\Projects\\Emotion Detection\\emotion_detect_env\\lib\\site-packages\\keras\\src\\saving\\saving_lib.py:757: UserWarning: Skipping variable loading for optimizer 'rmsprop', because it has 20 variables whereas the saved optimizer has 38 variables. \n",
      "  saveable.load_own_variables(weights_store.get(inner_path))\n"
     ]
    }
   ],
   "source": [
    "from tensorflow.keras.models import load_model\n",
    "\n",
    "model = load_model(\"../model/biLSTM.keras\")"
   ]
  },
  {
   "cell_type": "code",
   "execution_count": null,
   "metadata": {},
   "outputs": [],
   "source": [
    "def predict_emotion(sentence):\n",
    "    # Load tokenizer and label encoder\n",
    "    #with open(\"tokenizer.pkl\", \"rb\") as file:\n",
    "        #tokenizer = pickle.load(file)\n",
    "\n",
    "    #with open(\"label_encoder.pkl\", \"rb\") as file:\n",
    "        #label_encoder = pickle.load(file)\n",
    "\n",
    "    # Preprocess input sentence\n",
    "    sequence = tokenizer.texts_to_sequences([sentence])\n",
    "    padded_sequence = pad_sequences(sequence, maxlen=max_len, padding='post', truncating='post')\n",
    "\n",
    "    # Make prediction\n",
    "    prediction = model.predict(padded_sequence)\n",
    "    predicted_label = np.argmax(prediction)\n",
    "    predicted_emotion = label_encoder.inverse_transform([predicted_label])[0]\n",
    "\n",
    "    return predicted_emotion\n",
    "\n",
    "\n"
   ]
  },
  {
   "cell_type": "code",
   "execution_count": 7,
   "metadata": {},
   "outputs": [
    {
     "name": "stdout",
     "output_type": "stream",
     "text": [
      "\u001b[1m1/1\u001b[0m \u001b[32m━━━━━━━━━━━━━━━━━━━━\u001b[0m\u001b[37m\u001b[0m \u001b[1m0s\u001b[0m 374ms/step\n",
      "The weather is wonderful today! : joy\n",
      "\u001b[1m1/1\u001b[0m \u001b[32m━━━━━━━━━━━━━━━━━━━━\u001b[0m\u001b[37m\u001b[0m \u001b[1m0s\u001b[0m 36ms/step\n",
      "I am feeling really sad and lonely. : sad\n",
      "\u001b[1m1/1\u001b[0m \u001b[32m━━━━━━━━━━━━━━━━━━━━\u001b[0m\u001b[37m\u001b[0m \u001b[1m0s\u001b[0m 42ms/step\n",
      "What an exciting game we had last night! : anger\n",
      "\u001b[1m1/1\u001b[0m \u001b[32m━━━━━━━━━━━━━━━━━━━━\u001b[0m\u001b[37m\u001b[0m \u001b[1m0s\u001b[0m 32ms/step\n",
      "I can't believe how much I've learned this year! : sad\n",
      "\u001b[1m1/1\u001b[0m \u001b[32m━━━━━━━━━━━━━━━━━━━━\u001b[0m\u001b[37m\u001b[0m \u001b[1m0s\u001b[0m 26ms/step\n",
      "I was so angry during the meeting today. : anger\n",
      "\u001b[1m1/1\u001b[0m \u001b[32m━━━━━━━━━━━━━━━━━━━━\u001b[0m\u001b[37m\u001b[0m \u001b[1m0s\u001b[0m 40ms/step\n",
      "I can't believe how everything turned out today, it's a bit overwhelming. : sad\n",
      "\u001b[1m1/1\u001b[0m \u001b[32m━━━━━━━━━━━━━━━━━━━━\u001b[0m\u001b[37m\u001b[0m \u001b[1m0s\u001b[0m 34ms/step\n",
      "I guess I'm doing okay, but it's not as good as I hoped. : joy\n",
      "\u001b[1m1/1\u001b[0m \u001b[32m━━━━━━━━━━━━━━━━━━━━\u001b[0m\u001b[37m\u001b[0m \u001b[1m0s\u001b[0m 31ms/step\n",
      "That was such a fantastic presentation, even though I made some mistakes. : joy\n",
      "\u001b[1m1/1\u001b[0m \u001b[32m━━━━━━━━━━━━━━━━━━━━\u001b[0m\u001b[37m\u001b[0m \u001b[1m0s\u001b[0m 43ms/step\n",
      "I'm so glad I made it through the day, but I'm exhausted! : sad\n",
      "\u001b[1m1/1\u001b[0m \u001b[32m━━━━━━━━━━━━━━━━━━━━\u001b[0m\u001b[37m\u001b[0m \u001b[1m0s\u001b[0m 34ms/step\n",
      "I can't stop thinking about how much better things could have been. : joy\n",
      "\u001b[1m1/1\u001b[0m \u001b[32m━━━━━━━━━━━━━━━━━━━━\u001b[0m\u001b[37m\u001b[0m \u001b[1m0s\u001b[0m 33ms/step\n",
      "It was a long day, but I had a lot of fun! : sad\n",
      "\u001b[1m1/1\u001b[0m \u001b[32m━━━━━━━━━━━━━━━━━━━━\u001b[0m\u001b[37m\u001b[0m \u001b[1m0s\u001b[0m 45ms/step\n",
      "My cat died today. : sad\n"
     ]
    }
   ],
   "source": [
    "# Example usage\n",
    "example_sentences =  [\n",
    "        \"The weather is wonderful today!\",\n",
    "        \"I am feeling really sad and lonely.\",\n",
    "        \"What an exciting game we had last night!\",\n",
    "        \"I can't believe how much I've learned this year!\",\n",
    "        \"I was so angry during the meeting today.\",\n",
    "        \"I can't believe how everything turned out today, it's a bit overwhelming.\",\n",
    "        \"I guess I'm doing okay, but it's not as good as I hoped.\",\n",
    "        \"That was such a fantastic presentation, even though I made some mistakes.\",\n",
    "        \"I'm so glad I made it through the day, but I'm exhausted!\",\n",
    "        \"I can't stop thinking about how much better things could have been.\",\n",
    "        \"It was a long day, but I had a lot of fun!\",\n",
    "        \"My cat died today.\"\n",
    "    ]\n",
    "\n",
    "for i in example_sentences:\n",
    "    print(i,\":\",predict_emotion(i))"
   ]
  },
  {
   "cell_type": "code",
   "execution_count": 11,
   "metadata": {},
   "outputs": [
    {
     "data": {
      "text/plain": [
       "['../model\\\\label_encoder.joblib']"
      ]
     },
     "execution_count": 11,
     "metadata": {},
     "output_type": "execute_result"
    }
   ],
   "source": [
    "import joblib\n",
    "import os\n",
    "model_path = \"../model\"\n",
    "os.makedirs(model_path, exist_ok=True)\n",
    "\n",
    "\n",
    "joblib.dump(tokenizer, os.path.join(model_path,'tokenizer.joblib'))\n",
    "joblib.dump(label_encoder, os.path.join(model_path,'label_encoder.joblib'))"
   ]
  },
  {
   "cell_type": "code",
   "execution_count": null,
   "metadata": {},
   "outputs": [],
   "source": []
  }
 ],
 "metadata": {
  "kernelspec": {
   "display_name": "emotion_detect_env",
   "language": "python",
   "name": "python3"
  },
  "language_info": {
   "codemirror_mode": {
    "name": "ipython",
    "version": 3
   },
   "file_extension": ".py",
   "mimetype": "text/x-python",
   "name": "python",
   "nbconvert_exporter": "python",
   "pygments_lexer": "ipython3",
   "version": "3.10.0"
  }
 },
 "nbformat": 4,
 "nbformat_minor": 2
}
